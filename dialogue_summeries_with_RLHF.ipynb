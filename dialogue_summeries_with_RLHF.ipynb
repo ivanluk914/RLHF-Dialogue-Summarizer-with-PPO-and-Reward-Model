{
 "cells": [
  {
   "metadata": {},
   "cell_type": "markdown",
   "source": [
    "# RLHF Dialogue Summarizer with PPO and Reward Model\n",
    "\n",
    "\n",
    "## Background\n",
    "\n",
    "Dialogue summarization is a crucial task in natural language processing (NLP), aiming to generate concise summaries of conversations while preserving key information. Recent advancements in reinforcement learning with human feedback (RLHF) have demonstrated significant improvements in fine-tuning models for more accurate and contextually relevant summaries. This project leverages RLHF techniques, particularly Proximal Policy Optimization (PPO), to enhance a dialogue summarization model that was previously fine-tuned with PEFT.\n",
    "\n",
    "## Project Objectives\n",
    "\n",
    "The primary goal of this project is to develop a dialogue summarization model that incorporates human feedback to reduce the model's toxicity:\n",
    "\t•\tFine-tuning a transformer-based model using RLHF.\n",
    "\t•\tImplementing a reward model to evaluate summary quality.\n",
    "\t•\tUtilizing Proximal Policy Optimization (PPO) to iteratively improve performance.\n",
    "\t•\tEvaluating the effectiveness of the model using established metrics."
   ],
   "id": "62891c66df43ff8f"
  },
  {
   "metadata": {
    "ExecuteTime": {
     "end_time": "2025-02-02T05:35:19.462413Z",
     "start_time": "2025-02-02T05:35:17.221614Z"
    }
   },
   "cell_type": "code",
   "outputs": [],
   "execution_count": 1,
   "source": [
    "from transformers import pipeline, AutoTokenizer, AutoModelForSequenceClassification, AutoModelForSeq2SeqLM, GenerationConfig\n",
    "from datasets import load_dataset\n",
    "from peft import PeftModel, PeftConfig, LoraConfig, TaskType\n",
    "\n",
    "# Make sure the trl version is 0.11.4 when running this notebook\n",
    "# pip install trl==0.11.4\n",
    "from trl import PPOTrainer, PPOConfig, AutoModelForSeq2SeqLMWithValueHead\n",
    "from trl import create_reference_model\n",
    "from trl.core import LengthSampler\n",
    "\n",
    "import torch\n",
    "import evaluate\n",
    "\n",
    "import numpy as np\n",
    "import pandas as pd\n",
    "\n",
    "from tqdm import tqdm\n",
    "tqdm.pandas()\n",
    "\n",
    "device = \"mps\" if torch.backends.mps.is_available() else \"cpu\""
   ],
   "id": "819f6906c70e96dc"
  },
  {
   "metadata": {},
   "cell_type": "markdown",
   "source": [
    "## Dataset\n",
    "\n",
    "This project utilizes the DialogSum dataset from Hugging Face, specifically the \"knkarthick/dialogsum\" dataset. This dataset contains a diverse collection of dialogue transcripts along with human-written summaries. The dataset is preprocessed to filter out overly short dialogues and structured with instruction-based formatting to guide the summarization model."
   ],
   "id": "24fa6f6659911cd9"
  },
  {
   "metadata": {
    "ExecuteTime": {
     "end_time": "2025-02-02T05:35:59.876280Z",
     "start_time": "2025-02-02T05:35:47.224570Z"
    }
   },
   "cell_type": "code",
   "outputs": [
    {
     "data": {
      "text/plain": [
       "DatasetDict({\n",
       "    train: Dataset({\n",
       "        features: ['id', 'dialogue', 'summary', 'topic'],\n",
       "        num_rows: 12460\n",
       "    })\n",
       "    validation: Dataset({\n",
       "        features: ['id', 'dialogue', 'summary', 'topic'],\n",
       "        num_rows: 500\n",
       "    })\n",
       "    test: Dataset({\n",
       "        features: ['id', 'dialogue', 'summary', 'topic'],\n",
       "        num_rows: 1500\n",
       "    })\n",
       "})"
      ]
     },
     "execution_count": 2,
     "metadata": {},
     "output_type": "execute_result"
    }
   ],
   "execution_count": 2,
   "source": [
    "# Load dataset from hugging face dialogsum\n",
    "\n",
    "model_name = \"google/flan-t5-base\"\n",
    "huggingface_dataset_name = \"knkarthick/dialogsum\"\n",
    "\n",
    "dataset_original = load_dataset(huggingface_dataset_name)\n",
    "dataset_original"
   ],
   "id": "434ea9a32a723eca"
  },
  {
   "metadata": {
    "ExecuteTime": {
     "end_time": "2025-02-02T05:36:17.872405Z",
     "start_time": "2025-02-02T05:36:06.954414Z"
    }
   },
   "cell_type": "code",
   "source": [
    "# Take a subset of the dataset and filter only long enough and easy to read\n",
    "# Then wrap each dialog with the instruction and tokenize the prompt\n",
    "# Save the token_ids in the field token)ids\n",
    "# Decoded version of prompt in the field query\n",
    "\n",
    "def build_dataset(model_name, dataset_name, input_min_text_length, input_max_text_length):\n",
    "    \"\"\"\n",
    "    Preprocess the dataset and split into training and test sets.\n",
    "\n",
    "    Parameters:\n",
    "    - model_name: name of the model\n",
    "    - dataset_name: name of the dataset\n",
    "    - input_min_text_length: minimum text length\n",
    "    - input_max_text_length: maximum text length\n",
    "\n",
    "    Returns:\n",
    "    - dataset_splits (datasets.dataset_dict.DatasetDict): Processed dataset containing training and test sets.\n",
    "    \"\"\"\n",
    "    dataset = load_dataset(dataset_name, split=\"train\")\n",
    "    dataset = dataset.filter(lambda x: len(x[\"dialogue\"]) > input_min_text_length and len(x[\"dialogue\"]) <= input_max_text_length, batched=False)\n",
    "    tokenizer = AutoTokenizer.from_pretrained(model_name, device=\"auto\")\n",
    "\n",
    "    def tokenize(sample):\n",
    "\n",
    "        # wrap each dialogue with the instruction\n",
    "        prompt = f\"\"\"\n",
    "Summarize the following conversation.\n",
    "\n",
    "{sample[\"dialogue\"]}\n",
    "\n",
    "Summary:\n",
    "\"\"\"\n",
    "        sample[\"input_ids\"] = tokenizer.encode(prompt)\n",
    "        sample[\"query\"] = tokenizer.decode(sample[\"input_ids\"])\n",
    "        return sample\n",
    "\n",
    "    dataset = dataset.map(tokenize, batched=False)\n",
    "    dataset.set_format(type=\"torch\")\n",
    "    dataset_splits = dataset.train_test_split(test_size=0.2, shuffle=False, seed=42)\n",
    "    return dataset_splits\n",
    "\n",
    "dataset = build_dataset(model_name, huggingface_dataset_name, 200, 1000)\n",
    "print(dataset)"
   ],
   "id": "c340f89d28be2b64",
   "outputs": [
    {
     "name": "stdout",
     "output_type": "stream",
     "text": [
      "DatasetDict({\n",
      "    train: Dataset({\n",
      "        features: ['id', 'dialogue', 'summary', 'topic', 'input_ids', 'query'],\n",
      "        num_rows: 8017\n",
      "    })\n",
      "    test: Dataset({\n",
      "        features: ['id', 'dialogue', 'summary', 'topic', 'input_ids', 'query'],\n",
      "        num_rows: 2005\n",
      "    })\n",
      "})\n"
     ]
    }
   ],
   "execution_count": 3
  },
  {
   "metadata": {},
   "cell_type": "markdown",
   "source": "Here I am using a fine-tuned the PEFT model with summarization instructions from previous project as my base model. The training in the notebook was done on a subset of data.",
   "id": "53134b5a4b69988d"
  },
  {
   "metadata": {
    "ExecuteTime": {
     "end_time": "2025-02-02T05:36:21.285488Z",
     "start_time": "2025-02-02T05:36:21.283046Z"
    }
   },
   "cell_type": "code",
   "source": [
    "def print_number_of_trainable_parameters(model):\n",
    "    trainable_model_params = 0\n",
    "    all_model_params = 0\n",
    "    for _, param in model.named_parameters():\n",
    "        all_model_params += param.numel()\n",
    "        if param.requires_grad:\n",
    "            trainable_model_params += param.numel()\n",
    "    return f\"\\ntrainable model parameters: {trainable_model_params}\\nall model parameters: {all_model_params}\\npercentage of trainable model parameters: {100 * trainable_model_params / all_model_params:.2f}%\""
   ],
   "id": "81b7ce56ca1a07e7",
   "outputs": [],
   "execution_count": 4
  },
  {
   "metadata": {
    "ExecuteTime": {
     "end_time": "2025-02-02T05:36:36.812321Z",
     "start_time": "2025-02-02T05:36:32.644016Z"
    }
   },
   "cell_type": "code",
   "source": [
    "# use fine-tuned PEFT model with summarization instructions from previous project\n",
    "lora_config = LoraConfig(\n",
    "    r=32,\n",
    "    lora_alpha=32,\n",
    "    target_modules=[\"q\", \"v\"],\n",
    "    lora_dropout=0.05,\n",
    "    bias=\"none\",\n",
    "    task_type=TaskType.SEQ_2_SEQ_LM\n",
    ")\n",
    "\n",
    "model = AutoModelForSeq2SeqLM.from_pretrained(model_name, torch_dtype=torch.float16)\n",
    "\n",
    "peft_model = PeftModel.from_pretrained(model,\n",
    "                                       \"intotheverse/peft-dialogue-summary-checkpoint\",\n",
    "                                       lora_config=lora_config,\n",
    "                                       torch_dtype=torch.float32,\n",
    "                                       device_map={\"\": device},\n",
    "                                       is_trainable=True)\n",
    "\n",
    "print(f'PEFT model parameters to be updated:\\n{print_number_of_trainable_parameters(peft_model)}')"
   ],
   "id": "babca00c887ae40e",
   "outputs": [
    {
     "name": "stdout",
     "output_type": "stream",
     "text": [
      "PEFT model parameters to be updated:\n",
      "\n",
      "trainable model parameters: 3538944\n",
      "all model parameters: 251116800\n",
      "percentage of trainable model parameters: 1.41%\n"
     ]
    }
   ],
   "execution_count": 5
  },
  {
   "metadata": {},
   "cell_type": "markdown",
   "source": [
    "Here I am preparing the PPO for RL. PPO training requires a value model and a reference model. Value model is basically a version of the model with a value head augmented, it predicts a scalar reward for the generated response. The value model is trained to estimate future expected rewards.\n",
    "\n",
    "The value model (PPO_model) is initialized from a pre-trained model with an added value head, making it trainable for reinforcement learning."
   ],
   "id": "3d783fd4b1d1a8c4"
  },
  {
   "metadata": {
    "ExecuteTime": {
     "end_time": "2025-02-02T05:36:40.100275Z",
     "start_time": "2025-02-02T05:36:40.088497Z"
    }
   },
   "cell_type": "code",
   "source": [
    "# Prepare reward model\n",
    "ppo_model = AutoModelForSeq2SeqLMWithValueHead.from_pretrained(peft_model,\n",
    "                                                               torch_dtype=torch.float32,\n",
    "                                                               is_trainable=True,\n",
    "                                                               device_map={\"\": device})\n",
    "ppo_model.generation_config = ppo_model.config\n",
    "\n",
    "print(f'PPO model parameters to be updated (ValueHead + 769 parameters):\\n{print_number_of_trainable_parameters(ppo_model)}\\n')\n",
    "print(ppo_model.v_head)"
   ],
   "id": "a3d6438b9777ed6d",
   "outputs": [
    {
     "name": "stdout",
     "output_type": "stream",
     "text": [
      "PPO model parameters to be updated (ValueHead + 769 parameters):\n",
      "\n",
      "trainable model parameters: 3539713\n",
      "all model parameters: 251117569\n",
      "percentage of trainable model parameters: 1.41%\n",
      "\n",
      "ValueHead(\n",
      "  (dropout): Dropout(p=0.1, inplace=False)\n",
      "  (summary): Linear(in_features=768, out_features=1, bias=True)\n",
      "  (flatten): Flatten(start_dim=1, end_dim=-1)\n",
      ")\n"
     ]
    }
   ],
   "execution_count": 6
  },
  {
   "metadata": {},
   "cell_type": "markdown",
   "source": "Also, PPO requires a reference model to serve as a baseline to stabilize training. It remains unchanged throughout the PPO training process and is used to compute the KL-divergence penalty, ensuring that updates to the policy model do not drift too far from the original model. This helps balance exploration and exploitation in reinforcement learning.",
   "id": "eda63c37d84f39c1"
  },
  {
   "metadata": {
    "ExecuteTime": {
     "end_time": "2025-02-02T05:36:47.388813Z",
     "start_time": "2025-02-02T05:36:46.740726Z"
    }
   },
   "cell_type": "code",
   "source": [
    "ref_model = create_reference_model(ppo_model).to(device)\n",
    "print(f'Reference model parameters to be upldated:\\n{print_number_of_trainable_parameters(ref_model)}')"
   ],
   "id": "b169e7c3591ee8b9",
   "outputs": [
    {
     "name": "stdout",
     "output_type": "stream",
     "text": [
      "Reference model parameters to be upldated:\n",
      "\n",
      "trainable model parameters: 0\n",
      "all model parameters: 251117569\n",
      "percentage of trainable model parameters: 0.00%\n"
     ]
    }
   ],
   "execution_count": 7
  },
  {
   "metadata": {
    "ExecuteTime": {
     "end_time": "2025-02-02T05:36:58.017001Z",
     "start_time": "2025-02-02T05:36:54.684399Z"
    }
   },
   "cell_type": "code",
   "source": [
    "# Create a reference model\n",
    "toxicity_model_name = \"facebook/roberta-hate-speech-dynabench-r4-target\"\n",
    "toxicity_tokenizer = AutoTokenizer.from_pretrained(toxicity_model_name, device_map={\"\": device})\n",
    "toxicity_model = AutoModelForSequenceClassification.from_pretrained(toxicity_model_name, device_map={\"\": device})\n",
    "print(toxicity_model.config.id2label)"
   ],
   "id": "cf298608f5f276a0",
   "outputs": [
    {
     "name": "stdout",
     "output_type": "stream",
     "text": [
      "{0: 'nothate', 1: 'hate'}\n"
     ]
    }
   ],
   "execution_count": 8
  },
  {
   "metadata": {
    "ExecuteTime": {
     "end_time": "2025-02-02T05:37:03.021607Z",
     "start_time": "2025-02-02T05:37:02.808328Z"
    }
   },
   "cell_type": "code",
   "source": [
    "# Example of reward for a non-toxic text\n",
    "non_toxic_text = \"#Person 1# tells Tommy that he didn't like the movie.\"\n",
    "toxicity_input_ids = toxicity_tokenizer(non_toxic_text, return_tensors=\"pt\").input_ids.to(device)\n",
    "logits = toxicity_model(input_ids=toxicity_input_ids).logits\n",
    "print(f'logits [not hate, hate]: {logits.tolist()[0]}')\n",
    "\n",
    "probabilities = logits.softmax(dim=-1).tolist()[0]\n",
    "print(f'probabilities [not hate, hate]: {probabilities}')\n",
    "\n",
    "not_hate_index = 0\n",
    "not_hate_reward = (logits[:, not_hate_index].tolist())\n",
    "print(f'reward (high): {not_hate_reward}')"
   ],
   "id": "7a7aad56a8686cb8",
   "outputs": [
    {
     "name": "stdout",
     "output_type": "stream",
     "text": [
      "logits [not hate, hate]: [3.114098310470581, -2.4896152019500732]\n",
      "probabilities [not hate, hate]: [0.9963293671607971, 0.003670633537694812]\n",
      "reward (high): [3.114098310470581]\n"
     ]
    }
   ],
   "execution_count": 9
  },
  {
   "metadata": {
    "ExecuteTime": {
     "end_time": "2025-02-02T05:37:06.564164Z",
     "start_time": "2025-02-02T05:37:06.463258Z"
    }
   },
   "cell_type": "code",
   "source": [
    "# Example of reward for a toxic text\n",
    "toxic_text = \"#Person 1# tells Tommy that the movie was terrible, dumb and stupid.\"\n",
    "toxicity_input_ids = toxicity_tokenizer(toxic_text, return_tensors=\"pt\").input_ids.to(device)\n",
    "logits = toxicity_model(input_ids=toxicity_input_ids).logits\n",
    "print(f'logits [not hate, hate]: {logits.tolist()[0]}')\n",
    "\n",
    "probabilities = logits.softmax(dim=-1).tolist()[0]\n",
    "print(f'probabilities [not hate, hate]: {probabilities}')\n",
    "\n",
    "not_hate_reward = (logits[:, not_hate_index].tolist())\n",
    "print(f'reward (low): {not_hate_reward}')"
   ],
   "id": "3f69f1a2d1faf5b6",
   "outputs": [
    {
     "name": "stdout",
     "output_type": "stream",
     "text": [
      "logits [not hate, hate]: [-0.692116916179657, 0.37227126955986023]\n",
      "probabilities [not hate, hate]: [0.25647175312042236, 0.7435283064842224]\n",
      "reward (low): [-0.692116916179657]\n"
     ]
    }
   ],
   "execution_count": 10
  },
  {
   "metadata": {
    "ExecuteTime": {
     "end_time": "2025-02-02T05:37:10.278762Z",
     "start_time": "2025-02-02T05:37:09.483318Z"
    }
   },
   "cell_type": "code",
   "source": [
    "# Create a hugging face pipeline to simplify the reward model\n",
    "sentiment_pipe = pipeline(\"sentiment-analysis\",\n",
    "                          model=toxicity_model_name,\n",
    "                          device=device)\n",
    "\n",
    "reward_logits_kwargs = {\n",
    "    \"top_k\": None, # Return all scores (not just the top prediction)\n",
    "    \"function_to_apply\": \"none\", # PPO uses raw logits for reward estimation\n",
    "    \"batch_size\": 16\n",
    "}\n",
    "\n",
    "reward_probabilities_kwargs = {\n",
    "    \"top_k\": None,\n",
    "    \"function_to_apply\": \"softmax\", # Easier to interpret since it shows confidence scores\n",
    "    \"batch_size\": 16\n",
    "}\n",
    "\n",
    "print(\"Reward model output:\")\n",
    "print(\"For non-toxic text\")\n",
    "print(sentiment_pipe(non_toxic_text, **reward_logits_kwargs))\n",
    "print(sentiment_pipe(non_toxic_text, **reward_probabilities_kwargs))\n",
    "print(\"For toxic text\")\n",
    "print(sentiment_pipe(toxic_text, **reward_logits_kwargs))\n",
    "print(sentiment_pipe(toxic_text, **reward_probabilities_kwargs))"
   ],
   "id": "b7e11a69be840c53",
   "outputs": [
    {
     "name": "stderr",
     "output_type": "stream",
     "text": [
      "Device set to use mps\n"
     ]
    },
    {
     "name": "stdout",
     "output_type": "stream",
     "text": [
      "Reward model output:\n",
      "For non-toxic text\n",
      "[{'label': 'nothate', 'score': 3.114098310470581}, {'label': 'hate', 'score': -2.4896152019500732}]\n",
      "[{'label': 'nothate', 'score': 0.9963293671607971}, {'label': 'hate', 'score': 0.0036706337705254555}]\n",
      "For toxic text\n",
      "[{'label': 'hate', 'score': 0.37227126955986023}, {'label': 'nothate', 'score': -0.692116916179657}]\n",
      "[{'label': 'hate', 'score': 0.7435281872749329}, {'label': 'nothate', 'score': 0.25647175312042236}]\n"
     ]
    }
   ],
   "execution_count": 11
  },
  {
   "metadata": {
    "ExecuteTime": {
     "end_time": "2025-02-02T05:37:23.774820Z",
     "start_time": "2025-02-02T05:37:21.300096Z"
    }
   },
   "cell_type": "code",
   "source": [
    "# Set up an evaluation metric for toxicity\n",
    "toxicity_evaluator = evaluate.load(\"toxicity\",\n",
    "                                   toxicity_model_name,\n",
    "                                   module_type=\"measurement\",\n",
    "                                   toxic_label=\"hate\",\n",
    "                                   device=device)"
   ],
   "id": "5ac865789b8c0c1a",
   "outputs": [
    {
     "name": "stderr",
     "output_type": "stream",
     "text": [
      "Device set to use mps:0\n"
     ]
    }
   ],
   "execution_count": 12
  },
  {
   "metadata": {
    "ExecuteTime": {
     "end_time": "2025-02-02T05:37:27.139396Z",
     "start_time": "2025-02-02T05:37:27.062697Z"
    }
   },
   "cell_type": "code",
   "source": [
    "toxicity_score = toxicity_evaluator.compute(predictions=[non_toxic_text, toxic_text])\n",
    "\n",
    "print(f\"Toxicity score for non-toxic text and toxic text: {toxicity_score[\"toxicity\"]}\")"
   ],
   "id": "9bc2fb0ae6918d09",
   "outputs": [
    {
     "name": "stdout",
     "output_type": "stream",
     "text": [
      "Toxicity score for non-toxic text and toxic text: [0.0036706337705254555, 0.7435281872749329]\n"
     ]
    }
   ],
   "execution_count": 13
  },
  {
   "metadata": {
    "ExecuteTime": {
     "end_time": "2025-02-02T05:37:29.938047Z",
     "start_time": "2025-02-02T05:37:29.934931Z"
    }
   },
   "cell_type": "code",
   "source": [
    "def evaluate_toxicity(model,\n",
    "                      toxicity_evaluator,\n",
    "                      tokenizer,\n",
    "                      dataset,\n",
    "                      num_samples,\n",
    "                      device):\n",
    "    \"\"\"\n",
    "    Preprocess the dataset and split it into training and test sets.\n",
    "\n",
    "    Parameters:\n",
    "        - model (trl model): model to be evaluated.\n",
    "        - toxicity_evaluator: toxicity evaluator.\n",
    "        - tokenizer (transformers tokenizer): tokenizer to be used.\n",
    "        - dataset (dataset): dataset to be evaluated.\n",
    "        - num_samples (int): number of samples to be evaluated.\n",
    "\n",
    "    Returns:\n",
    "        tuple: a tuple containing two numpy.float64 values:\n",
    "            - mean of samples toxicity\n",
    "            - standard deviation of samples toxicity\n",
    "    \"\"\"\n",
    "\n",
    "    toxicities = []\n",
    "    for i, sample in tqdm(enumerate(dataset)):\n",
    "        input_text = sample[\"query\"]\n",
    "        if i > num_samples:\n",
    "            break\n",
    "\n",
    "        input_ids = tokenizer(input_text, return_tensors=\"pt\", padding=True).input_ids.to(device)\n",
    "        generation_config = GenerationConfig(max_new_tokens=100,\n",
    "                                             do_sample=True,\n",
    "                                             top_k=0.0,\n",
    "                                             top_p=1.0)\n",
    "        response_token_ids = model.generate(input_ids=input_ids, generation_config=generation_config)\n",
    "        generated_text_output = tokenizer.decode(response_token_ids[0], skip_special_tokens=True)\n",
    "\n",
    "        toxicity_score = toxicity_evaluator.compute(predictions=[(input_text + \" \" + generated_text_output)])\n",
    "        toxicities.extend(toxicity_score[\"toxicity\"])\n",
    "\n",
    "    mean = np.mean(toxicities)\n",
    "    std = np.std(toxicities)\n",
    "    return mean, std"
   ],
   "id": "c12e2fc9efd5ea7d",
   "outputs": [],
   "execution_count": 14
  },
  {
   "metadata": {
    "ExecuteTime": {
     "end_time": "2025-02-01T18:34:59.062335Z",
     "start_time": "2025-02-01T18:34:30.712702Z"
    }
   },
   "cell_type": "code",
   "source": [
    "# Assess toxicity of PEFT trained model before RLHF\n",
    "tokenizer = AutoTokenizer.from_pretrained(model_name, device_map={\"\": device})\n",
    "mean_before_rlhf, std_before_rlhf = evaluate_toxicity(model=ref_model,\n",
    "                                                      toxicity_evaluator=toxicity_evaluator,\n",
    "                                                      tokenizer=tokenizer,\n",
    "                                                      dataset=dataset[\"test\"],\n",
    "                                                      num_samples=10,\n",
    "                                                      device=device)\n",
    "print(f\"Toxicity[mean, std] before RLHF: [{mean_before_rlhf}, {std_before_rlhf}]\")"
   ],
   "id": "cce792a9ae292d5e",
   "outputs": [
    {
     "name": "stderr",
     "output_type": "stream",
     "text": [
      "11it [00:27,  2.54s/it]"
     ]
    },
    {
     "name": "stdout",
     "output_type": "stream",
     "text": [
      "Toxicity[mean, std] before RLHF: [0.033246518705378876, 0.04670102926609221]\n"
     ]
    },
    {
     "name": "stderr",
     "output_type": "stream",
     "text": [
      "\n"
     ]
    }
   ],
   "execution_count": 33
  },
  {
   "metadata": {
    "ExecuteTime": {
     "end_time": "2025-02-02T05:38:17.209038Z",
     "start_time": "2025-02-02T05:38:17.206363Z"
    }
   },
   "cell_type": "code",
   "source": [
    "# Create a collator function, a data collector is used to batch process the training data before passing it to PPO\n",
    "def collator(data):\n",
    "    return dict((key, [d[key] for d in data]) for key in data[0])\n",
    "test_data = [\n",
    "    {\"query\": \"Summarize this text\", \"response\": \"Summary A\", \"reward\": 0.8},\n",
    "    {\"query\": \"Explain this topic\", \"response\": \"Explanation B\", \"reward\": 0.6}\n",
    "]\n",
    "print(collator(test_data))"
   ],
   "id": "c059148f8356815c",
   "outputs": [
    {
     "name": "stdout",
     "output_type": "stream",
     "text": [
      "{'query': ['Summarize this text', 'Explain this topic'], 'response': ['Summary A', 'Explanation B'], 'reward': [0.8, 0.6]}\n"
     ]
    }
   ],
   "execution_count": 17
  },
  {
   "metadata": {
    "ExecuteTime": {
     "end_time": "2025-02-02T05:38:27.051179Z",
     "start_time": "2025-02-02T05:38:26.490916Z"
    }
   },
   "cell_type": "code",
   "source": [
    "learning_rate=1.41e-5\n",
    "max_ppo_epochs=1\n",
    "mini_batch_size=4\n",
    "batch_size=16\n",
    "\n",
    "config = PPOConfig(\n",
    "    model_name=model_name,\n",
    "    learning_rate=learning_rate,\n",
    "    ppo_epochs=max_ppo_epochs,\n",
    "    mini_batch_size=mini_batch_size,\n",
    "    batch_size=batch_size\n",
    ")\n",
    "\n",
    "ppo_trainer = PPOTrainer(config=config,\n",
    "                         model=ppo_model,\n",
    "                         ref_model=ref_model,\n",
    "                         tokenizer=tokenizer,\n",
    "                         dataset=dataset[\"train\"],\n",
    "                         data_collator=collator)"
   ],
   "id": "c69ce5924b00f0f7",
   "outputs": [
    {
     "name": "stderr",
     "output_type": "stream",
     "text": [
      "/opt/anaconda3/lib/python3.12/site-packages/trl/trainer/ppo_config.py:207: FutureWarning: `PPOConfig` is deprecated and will be removed in the future. Please use `PPOv2Config` with `PPOv2Trainer` instead.\n",
      "  warnings.warn(\n",
      "/opt/anaconda3/lib/python3.12/site-packages/trl/trainer/ppo_trainer.py:193: FutureWarning: `PPOTrainer` is deprecated and will be removed in trl v0.12. Please use `PPOv2Trainer` instead.\n",
      "  warnings.warn(\n"
     ]
    }
   ],
   "execution_count": 18
  },
  {
   "metadata": {
    "ExecuteTime": {
     "end_time": "2025-02-01T18:26:12.846177Z",
     "start_time": "2025-02-01T18:16:18.094318Z"
    }
   },
   "cell_type": "code",
   "source": [
    "output_min_length = 100\n",
    "output_max_length = 400\n",
    "output_length_sampler = LengthSampler(output_min_length, output_max_length)\n",
    "\n",
    "generation_kwargs = {\n",
    "    \"min_length\": 5,\n",
    "    \"top_k\": 0.0,\n",
    "    \"top_p\": 1.0,\n",
    "    \"do_sample\": True\n",
    "}\n",
    "\n",
    "reward_kwargs = {\n",
    "    \"top_k\": None, # Return all scores.\n",
    "    \"function_to_apply\": \"none\", # You want the raw logits without softmax.\n",
    "    \"batch_size\": 16\n",
    "}\n",
    "\n",
    "max_ppo_steps = 10\n",
    "\n",
    "for step, batch in tqdm(enumerate(ppo_trainer.dataloader)):\n",
    "    # Break when you reach max_steps.\n",
    "    if step >= max_ppo_steps:\n",
    "        break\n",
    "\n",
    "    prompt_tensors = batch[\"input_ids\"]\n",
    "\n",
    "    # Get response from FLAN-T5/PEFT LLM.\n",
    "    summary_tensors = []\n",
    "\n",
    "    for prompt_tensor in prompt_tensors:\n",
    "        max_new_tokens = output_length_sampler()\n",
    "\n",
    "        generation_kwargs[\"max_new_tokens\"] = max_new_tokens\n",
    "        summary = ppo_trainer.generate(prompt_tensor, **generation_kwargs)\n",
    "\n",
    "        summary_tensors.append(summary.squeeze()[-max_new_tokens:])\n",
    "\n",
    "    # This needs to be called \"response\".\n",
    "    batch[\"response\"] = [tokenizer.decode(r.squeeze()) for r in summary_tensors]\n",
    "\n",
    "    # Compute reward outputs.\n",
    "    query_response_pairs = [q + r for q, r in zip(batch[\"query\"], batch[\"response\"])]\n",
    "    rewards = sentiment_pipe(query_response_pairs, **reward_kwargs)\n",
    "\n",
    "    # You use the `nothate` item because this is the score for the positive `nothate` class.\n",
    "    reward_tensors = [torch.tensor(reward[not_hate_index][\"score\"]) for reward in rewards]\n",
    "\n",
    "    # Run PPO step.\n",
    "    stats = ppo_trainer.step(prompt_tensors, summary_tensors, reward_tensors)\n",
    "    ppo_trainer.log_stats(stats, batch, reward_tensors)\n",
    "\n",
    "    print(f'objective/kl: {stats[\"objective/kl\"]}')\n",
    "    print(f'ppo/returns/mean: {stats[\"ppo/returns/mean\"]}')\n",
    "    print(f'ppo/policy/advantages_mean: {stats[\"ppo/policy/advantages_mean\"]}')\n",
    "    print('-'.join('' for x in range(100)))"
   ],
   "id": "a3096ca918e09b5b",
   "outputs": [
    {
     "name": "stderr",
     "output_type": "stream",
     "text": [
      "0it [00:00, ?it/s]Passing a tuple of `past_key_values` is deprecated and will be removed in Transformers v4.48.0. You should pass an instance of `EncoderDecoderCache` instead, e.g. `past_key_values=EncoderDecoderCache.from_legacy_cache(past_key_values)`.\n",
      "1it [00:59, 59.91s/it]"
     ]
    },
    {
     "name": "stdout",
     "output_type": "stream",
     "text": [
      "objective/kl: 30.84881591796875\n",
      "ppo/returns/mean: -0.8026288747787476\n",
      "ppo/policy/advantages_mean: -0.003186337649822235\n",
      "---------------------------------------------------------------------------------------------------\n"
     ]
    },
    {
     "name": "stderr",
     "output_type": "stream",
     "text": [
      "2it [02:11, 66.95s/it]"
     ]
    },
    {
     "name": "stdout",
     "output_type": "stream",
     "text": [
      "objective/kl: 34.12253952026367\n",
      "ppo/returns/mean: -0.9107413291931152\n",
      "ppo/policy/advantages_mean: 0.0091189444065094\n",
      "---------------------------------------------------------------------------------------------------\n"
     ]
    },
    {
     "name": "stderr",
     "output_type": "stream",
     "text": [
      "3it [03:07, 61.77s/it]"
     ]
    },
    {
     "name": "stdout",
     "output_type": "stream",
     "text": [
      "objective/kl: 26.020965576171875\n",
      "ppo/returns/mean: -0.6090663075447083\n",
      "ppo/policy/advantages_mean: 0.04889874905347824\n",
      "---------------------------------------------------------------------------------------------------\n"
     ]
    },
    {
     "name": "stderr",
     "output_type": "stream",
     "text": [
      "4it [04:00, 58.29s/it]"
     ]
    },
    {
     "name": "stdout",
     "output_type": "stream",
     "text": [
      "objective/kl: 18.702266693115234\n",
      "ppo/returns/mean: -0.13440899550914764\n",
      "ppo/policy/advantages_mean: 0.011839397251605988\n",
      "---------------------------------------------------------------------------------------------------\n"
     ]
    },
    {
     "name": "stderr",
     "output_type": "stream",
     "text": [
      "5it [04:59, 58.48s/it]"
     ]
    },
    {
     "name": "stdout",
     "output_type": "stream",
     "text": [
      "objective/kl: 22.52288055419922\n",
      "ppo/returns/mean: -0.27323660254478455\n",
      "ppo/policy/advantages_mean: -0.008797511458396912\n",
      "---------------------------------------------------------------------------------------------------\n"
     ]
    },
    {
     "name": "stderr",
     "output_type": "stream",
     "text": [
      "6it [05:55, 57.86s/it]"
     ]
    },
    {
     "name": "stdout",
     "output_type": "stream",
     "text": [
      "objective/kl: 24.54822540283203\n",
      "ppo/returns/mean: -0.4767216742038727\n",
      "ppo/policy/advantages_mean: 0.017924286425113678\n",
      "---------------------------------------------------------------------------------------------------\n"
     ]
    },
    {
     "name": "stderr",
     "output_type": "stream",
     "text": [
      "7it [07:01, 60.43s/it]"
     ]
    },
    {
     "name": "stdout",
     "output_type": "stream",
     "text": [
      "objective/kl: 25.726707458496094\n",
      "ppo/returns/mean: -0.5373175144195557\n",
      "ppo/policy/advantages_mean: 0.00110650435090065\n",
      "---------------------------------------------------------------------------------------------------\n"
     ]
    },
    {
     "name": "stderr",
     "output_type": "stream",
     "text": [
      "8it [08:03, 60.81s/it]"
     ]
    },
    {
     "name": "stdout",
     "output_type": "stream",
     "text": [
      "objective/kl: 25.71717071533203\n",
      "ppo/returns/mean: -0.35913965106010437\n",
      "ppo/policy/advantages_mean: 0.05765759199857712\n",
      "---------------------------------------------------------------------------------------------------\n"
     ]
    },
    {
     "name": "stderr",
     "output_type": "stream",
     "text": [
      "9it [08:58, 59.16s/it]"
     ]
    },
    {
     "name": "stdout",
     "output_type": "stream",
     "text": [
      "objective/kl: 18.82454490661621\n",
      "ppo/returns/mean: -0.27355071902275085\n",
      "ppo/policy/advantages_mean: 0.03237628936767578\n",
      "---------------------------------------------------------------------------------------------------\n"
     ]
    },
    {
     "name": "stderr",
     "output_type": "stream",
     "text": [
      "10it [09:54, 59.47s/it]"
     ]
    },
    {
     "name": "stdout",
     "output_type": "stream",
     "text": [
      "objective/kl: 22.212810516357422\n",
      "ppo/returns/mean: -0.15175923705101013\n",
      "ppo/policy/advantages_mean: 0.0038682222366333008\n",
      "---------------------------------------------------------------------------------------------------\n"
     ]
    },
    {
     "name": "stderr",
     "output_type": "stream",
     "text": [
      "\n"
     ]
    }
   ],
   "execution_count": 19
  },
  {
   "metadata": {
    "ExecuteTime": {
     "end_time": "2025-02-01T18:31:54.308009Z",
     "start_time": "2025-02-01T18:31:23.729109Z"
    }
   },
   "cell_type": "code",
   "source": [
    "mean_after_detoxification, std_after_detoxification = evaluate_toxicity(model=ppo_model,\n",
    "                                                                        toxicity_evaluator=toxicity_evaluator,\n",
    "                                                                        tokenizer=tokenizer,\n",
    "                                                                        dataset=dataset[\"test\"],\n",
    "                                                                        num_samples=10,\n",
    "                                                                        device=device)\n",
    "print(f'toxicity [mean, std] after detox: [{mean_after_detoxification}, {std_after_detoxification}]')"
   ],
   "id": "bff631e60befff33",
   "outputs": [
    {
     "name": "stderr",
     "output_type": "stream",
     "text": [
      "11it [00:30,  2.78s/it]"
     ]
    },
    {
     "name": "stdout",
     "output_type": "stream",
     "text": [
      "toxicity [mean, std] after detox: [0.02404899633785879, 0.026512699287254908]\n"
     ]
    },
    {
     "name": "stderr",
     "output_type": "stream",
     "text": [
      "\n"
     ]
    }
   ],
   "execution_count": 28
  },
  {
   "metadata": {
    "ExecuteTime": {
     "end_time": "2025-02-01T18:35:07.840319Z",
     "start_time": "2025-02-01T18:35:07.837372Z"
    }
   },
   "cell_type": "code",
   "source": [
    "mean_improvement = (mean_before_rlhf - mean_after_detoxification) / mean_before_rlhf\n",
    "std_improvement = (std_before_rlhf - std_after_detoxification) / std_before_rlhf\n",
    "\n",
    "print(f'Percentage improvement of toxicity score after detoxification:')\n",
    "print(f'mean: {mean_improvement*100:.2f}%')\n",
    "print(f'std: {std_improvement*100:.2f}%')"
   ],
   "id": "b6a0aac3da76353f",
   "outputs": [
    {
     "name": "stdout",
     "output_type": "stream",
     "text": [
      "Percentage improvement of toxicity score after detoxification:\n",
      "mean: 27.66%\n",
      "std: 43.23%\n"
     ]
    }
   ],
   "execution_count": 34
  },
  {
   "metadata": {
    "ExecuteTime": {
     "end_time": "2025-02-02T05:42:08.815227Z",
     "start_time": "2025-02-02T05:40:25.422431Z"
    }
   },
   "cell_type": "code",
   "source": [
    "batch_size = 20\n",
    "compare_results = {}\n",
    "\n",
    "df_batch = dataset[\"test\"][0:batch_size]\n",
    "\n",
    "compare_results[\"query\"] = df_batch[\"query\"]\n",
    "prompt_tensors = df_batch[\"input_ids\"]\n",
    "\n",
    "summary_tensors_ref = []\n",
    "summary_tensors_ppo = []\n",
    "\n",
    "for i in tqdm(range(batch_size)):\n",
    "    gen_len = output_length_sampler()\n",
    "    generation_kwargs[\"max_new_tokens\"] = gen_len\n",
    "\n",
    "    summary = ref_model.generate(\n",
    "        input_ids=torch.as_tensor(prompt_tensors[i]).unsqueeze(dim=0).to(device),\n",
    "        **generation_kwargs\n",
    "    ).squeeze()\n",
    "    summary_tensors_ref.append(summary)\n",
    "\n",
    "    summary = ppo_model.generate(\n",
    "        input_ids=torch.as_tensor(prompt_tensors[i]).unsqueeze(dim=0).to(device),\n",
    "        **generation_kwargs\n",
    "    ).squeeze()\n",
    "    summary_tensors_ppo.append(summary)\n",
    "\n",
    "compare_results[\"response_before\"] = [tokenizer.decode(summary_tensors_ref[i]) for i in range(batch_size)]\n",
    "compare_results[\"response_after\"] = [tokenizer.decode(summary_tensors_ppo[i]) for i in range(batch_size)]\n",
    "\n",
    "texts_before = [d + s for d, s in zip(compare_results[\"query\"], compare_results[\"response_before\"])]\n",
    "rewards_before = sentiment_pipe(texts_before, **reward_kwargs)\n",
    "compare_results[\"reward_before\"] = [reward[0][\"score\"] for reward in rewards_before]\n",
    "\n",
    "texts_after = [d + s for d, s in zip(compare_results[\"query\"], compare_results[\"response_after\"])]\n",
    "rewards_after = sentiment_pipe(texts_after, **reward_kwargs)\n",
    "compare_results[\"reward_after\"] = [reward[0][\"score\"] for reward in rewards_after]"
   ],
   "id": "c715af4ac6c562aa",
   "outputs": [
    {
     "name": "stderr",
     "output_type": "stream",
     "text": [
      "100%|██████████| 20/20 [01:40<00:00,  5.05s/it]\n"
     ]
    }
   ],
   "execution_count": 21
  },
  {
   "metadata": {
    "ExecuteTime": {
     "end_time": "2025-02-02T05:42:41.722073Z",
     "start_time": "2025-02-02T05:42:41.692810Z"
    }
   },
   "cell_type": "code",
   "source": [
    "pd.set_option('display.max_colwidth', 500)\n",
    "df_compare_results = pd.DataFrame(compare_results)\n",
    "df_compare_results[\"reward_diff\"] = df_compare_results['reward_after'] - df_compare_results['reward_before']\n",
    "df_compare_results_sorted = df_compare_results.sort_values(by=['reward_diff'], ascending=False).reset_index(drop=True)\n",
    "df_compare_results_sorted"
   ],
   "id": "996e4f612d4cb0f8",
   "outputs": [
    {
     "data": {
      "text/plain": [
       "                                                                                                                                                                                                                                                                                                                                                                                                                                                                                                                  query  \\\n",
       "0   Summarize the following conversation. #Person1#: I'm forming a music band. #Person2#: Do you already know how to play an instrument? #Person1#: Uh. . . Yeah! I'Ve told you a thousand times that I'm learning to play the drums. Now that I know how to play well, I would like to form a rock band. #Person2#: Aside from yourself, who are the other members of the band? #Person1#: We have a guy who plays guitar, and another who plays bass. Although we still haven't found anyone to be our singer. You...   \n",
       "1   Summarize the following conversation. #Person1#: I would like to order some internet today. #Person2#: What kind would you like? #Person1#: What kind of internet is there? #Person2#: You can get DEL or dial-up. #Person1#: Which of those two is best? #Person2#: I would recommend DEL. #Person1#: So that one better? #Person2#: It's better because it doesn't tie up the phone. #Person1#: What do you mean by that? #Person2#: DEL isn't connected through your phone line, but dial-up is. #Person1#: S...   \n",
       "2                       Summarize the following conversation. #Person1#: Mom, I just finished my paper. Can you proofread it before I hand it in? #Person2#: Sure, let's take a look. Sweetie, this is terrific. Your ideas are so original. #Person1#: Thanks. #Person2#: I can tell you worked hard on it. #Person1#: I really did! I started thinking about what I wanted to say three weeks ago. #Person2#: Well, it was definitely worth all the time. #Person1#: Let's just hope my teacher agrees. Summary: </s>   \n",
       "3   Summarize the following conversation. #Person1#: Today more and more families have personal computers. People have wider range of choice to communicate with the outside world. #Person2#: Right. With the establishment of Internet and a lot of web companies, people are getting more and more dependent on the web. #Person1#: One of the common uses of PC is that people can buy goods through it without going out to the physical stores. #Person2#: Can you tell me how it is done? #Person1#: If a cus...   \n",
       "4   Summarize the following conversation. #Person1#: Let's take a coffee break, shall we? #Person2#: I wish I could, but I can't. #Person1#: What keeps you so busy? You've been sitting there for hours. You've got to walk around. You just can't stay on the computer forever. #Person2#: Well, I am up to my neck in work. I've got to finish this report. Sarah needs it by noon. I don't want to be scolded if I can't finish my work by the deadline. #Person1#: I understand that, but you'd feel better if ...   \n",
       "5   Summarize the following conversation. #Person1#: Hello. I want to reconfirm our flight to London. #Person2#: Yes, sir. Did you call the airline? #Person1#: Yes, I did. But I couldn't communicate with them in English. They speak only Spanish. So I need your help. #Person2#: Certainly, sir. What is the flight number and when are you leaving? #Person1#: We are taking IB 385 to London tomorrow at 1 p. m. #Person2#: Oh, I see, sir. We have the airline office inside the hotel. They have an English...   \n",
       "6                                                                                                                                                                                                                           Summarize the following conversation. #Person1#: Amanda, how do you like this peaked cap? #Person2#: Didn't you say you want to buy a top hat? #Person1#: But I think this one fits me Well. Why don't you try on the sombrero in black? #Person2#: I don't like caps at all. Summary: </s>   \n",
       "7                                                                                                                                                                         Summarize the following conversation. #Person1#: I'd like to have this cashed, please. #Person2#: Please put you name and address here. May I see your passport? #Person1#: Yes. #Person2#: How would you like it? #Person1#: Ten hundreds and ten twenties, and the rest in small change, please. #Person2#: OK. Here you are. Summary: </s>   \n",
       "8                                                                                                                                                                                                                                         Summarize the following conversation. #Person1#: Could you help me, Sir? My flight got in 15 minutes ago. Everyone else has picked up the luggage but mine hasn't come through. #Person2#: I'm sorry, Madam, I'll go and find out if there is any more to come. Summary: </s>   \n",
       "9   Summarize the following conversation. #Person1#: So how did you like the restaurant? #Person2#: Actually, it could have been better. #Person1#: What didn't you like about it? #Person2#: It is a new restaurant. I don't think they have their act together yet. #Person1#: What did you think about the food? #Person2#: I felt that the food was pretty mediocre. #Person1#: The service wasn't that great, either. #Person2#: I agree. The service was not good. #Person1#: Do you think that you want to tr...   \n",
       "10  Summarize the following conversation. #Person1#: Where shall I register, please? #Person2#: Here. Do you have a registration card? #Person1#: Yes. Here you are. #Person2#: Please register your information here and pay for it. And I'll make a medical record for you. #Person1#: OK. How much do I need to pay for the registration? #Person2#: Please pay ten yuan for the registration. #Person1#: Here is my money. #Person2#: This is your registration card. Please don't lose it and bring it whenever...   \n",
       "11          Summarize the following conversation. #Person1#: What can I do for you, madam? #Person2#: I'd like to buy a toy car for my son. #Person1#: How about this one? #Person2#: It looks nice. How much is it? #Person1#: They're three hundred dollars. #Person2#: Oh, I'm afraid it's too expensive. Can you show me something cheaper? #Person1#: OK, This one is one hundred and twenty. It's the cheapest here. #Person2#: OK, I'll take it. Here's the money. #Person1#: Thank you very much. Summary: </s>   \n",
       "12                                                                                    Summarize the following conversation. #Person1#: How much are you asking for this? #Person2#: I'm offering them to you at 150 yuan a piece. Is that all right? #Person1#: Is tax already included in their price? #Person2#: Yes. Our price can't be matched. #Person1#: Would you consider a volume discount? #Person2#: If you buy 1, 000 or more, you'll get a 10 % discount. #Person1#: I'll accept your offer. Summary: </s>   \n",
       "13  Summarize the following conversation. #Person1#: Here is the final draft of our contract. I'm glad that we have reached an agreement on almost every term in our trade. #Person2#: Yes, it seems to me we have come quite a long way. However, let me take a close look at the final draft. #Person1#: Do you have some points to bring up? #Person2#: Well, everything we've discussed seems to be here. #Person1#: Yes, including a description of the shirts you want to purchase this time, the total amount...   \n",
       "14  Summarize the following conversation. #Person1#: Could you help me figure out how to look for a job? #Person2#: We have lots of options, what type of job do you need? #Person1#: I want to work in an office. #Person2#: Do you want to work part-time or full-time? #Person1#: I want to work full-time. #Person2#: We have binders with local job listings or you can make use of the computers. OK? #Person1#: I am confused a bit but I am sure that I can figure it out. #Person2#: If you make an appoint...   \n",
       "15  Summarize the following conversation. #Person1#: Oh, my God! What's this? #Person2#: What? #Person1#: Look! This window is open. #Person2#: Did you open it before we left? #Person1#: Are you kidding? It's winter. Why would I open it? #Person2#: I don't know. Wait. Is this yours? #Person1#: No! Oh, my God! Someone has broken into the house. #Person2#: It looks that way. That's probably why the door wasn't locked when we came in. #Person1#: I locked it when I left though. #Person2#: Yes, but t...   \n",
       "16  Summarize the following conversation. #Person1#: Excuse me, could you tell me how to get to the Cross Bakery building? #Person2#: The Cross Bakery building? Oh sure. You're actually walking in the opposite direction. #Person1#: Oh, you're kidding! I thought I was heading east. #Person2#: No, east is the other direction. To get to the Bakery, you need to turn around and go three blocks to Broadway. When you get to the intersection of Broadway and Elm, you hang a left. Go straight down that st...   \n",
       "17                                                                                                                                                                  Summarize the following conversation. #Person1#: Judy, what is everybody talking about? #Person2#: Haven't you heard? Richard was fired by our manager. #Person1#: You're kidding. It can't be true. #Person2#: Believe it or not. Everybody is talking about it in the company. #Person1#: Really? I'm surprised. #Person2#: Me too. Summary: </s>   \n",
       "18  Summarize the following conversation. #Person1#: Hello? #Person2#: Hello? #Person1#: Can I speak to Li Hong, please? #Person2#: Speaking. #Person1#: Hi, Li Hong. This is Alice. #Person2#: Hi, Alice. How are you? #Person1#: Not bad. Li Hong, I am sorry that I can't go to see Mrs. Brown with you tomorrow morning. My mother is ill. I must take care of her. #Person2#: I'm sorry to hear that. You'd better stay at home. After all, we can visit Mrs. Brown later #Person1#: OK. Bye - bye. #Person2#: ...   \n",
       "19  Summarize the following conversation. #Person1#: It smells like an ashtray in here! #Person2#: Hi honey! What's wrong? Why do you have that look on your face? #Person1#: What's wrong? I thought we agreed that you were gonna quit smoking. #Person2#: No! I said I was going to cut down which is very different. You can't just expect me to go cold turkey overnight! #Person1#: Look, there are other ways to quit. You can try the nicotine patch, or nicotine chewing gum. We spend a fortune on cigaret...   \n",
       "\n",
       "                                                                                                                                                                                                                                                                                                              response_before  \\\n",
       "0                                                                                                                                                                      <pad> #Person1# wants to form a music band. #Person1# says she is learning the drums. A singer is joining them and they can audition this weekend.</s>   \n",
       "1                                                                                                                                                                         <pad> Mr.1# wants to order some internet on DEL instead of dial-up, since it isn't connected through the phone line, so it can't use his phone.</s>   \n",
       "2                                                                                                                                                                                <pad> Mom gives #Person1# a proposal Melson gave her before handing it in. Mom thinks #Person1#'s paper sounds original and is thankful.</s>   \n",
       "3                                                                                                                                                <pad> #Person1# tells #Person2# how the PC is used to buy things online without going to the physical stores. The service is perfect and the delivery is free of charge.</s>   \n",
       "4                                                                                                                     <pad> #Person1# is raising concerns about #Person2#'s fight with an employee and asks #Person2# to take a coffee break. They decided to give a break only because they are sitting there for hours.</s>   \n",
       "5                                                                                                                                                                        <pad> #Person1# calls the airline but they speak only Spanish. #Person2# helps #Person1# to reconfirm the flight to London and accepts the call.</s>   \n",
       "6                                                                                                                                                                                                                           <pad> Amanda likes the peaked cap she bought at her shopping place but she doesn't like caps.</s>   \n",
       "7                                                                                                                                                                                                                                       <pad> #Person1# wants to make a cashed up with #Person2# and looks at every year.</s>   \n",
       "8                                                                                                                                                                                            <pad> #Person1#'s flight got in 11 minutes but #Person1#'s not ready to be done because #Person2# gives none of the baggage.</s>   \n",
       "9                                                                                                                                                              <pad> #Person2# tells #Person1# #Person2#'s criticized the restaurant at first, the food. #Person2# says the service is not good and #Person2#'s is tired.</s>   \n",
       "10                                                                                                 <pad> #Person1# registers with #Person2# and asks to register her information here as she proceeds to get a medical record. #Person2# will make her a medical record and informs #Person1# the way to the pharmastore.</s>   \n",
       "11                                                                                                                                                    <pad> #Person0# wants to buy a toy car for #Person2# for #Person2# birthday. #Person1# offers #Person2# an andnang 25 at a rate cheaper than three hundred dollars.</s>   \n",
       "12                                                                                                                                               <pad> #Person1# offers #Person2# 150 yuan a piece of earrings to #Person2# for 3000 yuan. As long as #Person2# has a volume discount, #Person2# accepts and will accept.</s>   \n",
       "13                                                                                                              <pad> #Person1# is happy with the final draft of their contract and #Person2# brings the final draft to #Person1# for the first time. #Person1# wants to sign in a few minutes so the contract is signed.</s>   \n",
       "14                                                                                            <pad> #Person2# helps #Person1# find a job in an office and guide #Person1# to using binders with local job listings. #Person1# also uses computers for keeping the job. #Person2# recommends #Person1# to see a counselor.</s>   \n",
       "15                                                                                                                                                                                     <pad> Allen goes above to look for someone, but can't find anyone climbing upstairs because the man broke into the house's window.</s>   \n",
       "16  <pad> #Person1# lets #Person2# show #Person1# the way to Cross Bakery's bakery building. #Person2# tells #Person1# about what you need to do to get to the bakery. #Person1# tries to make a left, which leads until the Bakery building is at #Person1#'s left side. #Person1# doesn't think he can pass the Bakery.</s>   \n",
       "17                                                                                                                                                                                            <pad> Judy loves Richard made a music playing in the company because Richard was at his manager's place. Judy is surprised.</s>   \n",
       "18                                                                                                                                                                                                                              <pad> Alice is sick and she would like to see Mrs. Brown and Li Hong can visit her later.</s>   \n",
       "19                                                                                                                                                      <pad> #Person1# thinks Hussain might have changed his plan and it irks him becauseHussain broke the up across Everyone's House. They disagree and want a divorce.</s>   \n",
       "\n",
       "                                                                                                                                                                                                                                                                             response_after  \\\n",
       "0   <pad> #Person1# tells #Person2# about the members of the call for a rock band to form, and #Person2# is a singer. #Person1# invites #Person2# to audition this weekend at #Person1#'s house. #Person2# doesn't have enough room for the amplifiers, microphones, or even the drums.</s>   \n",
       "1                                                                               <pad> #Person1# requests to order some dial-up routers based on #Person2#'s recommendation. The suggestions include DEL which is better because it doesn't tie up the phone as it belongs to #Person1#.</s>   \n",
       "2                                                                           <pad> #Person1#'s mom and her mom review the paper before handing it in by #Person1# and talk about it. #Person1#'s parents thank they for work on the piece and hope #Person1#'s teacher accepts the idea.</s>   \n",
       "3                                                                          <pad> #Person1# and #Person2# talk about the day to day use of personal computers. John shows #Person2# how companies create the technologies for posting and contacting information through their websites.</s>   \n",
       "4                                                                                                                                                                               <pad> #Person1#, Sarah, and #Person2# are going to make a coffee break after their work problem arises.</s>   \n",
       "5                                                                                                                     <pad> #Person1# wants to confirm a flight to London. #Person2# helps faccessed the flight number and when departing. #Person1# is about to go to London at 1 p.m.</s>   \n",
       "6                                                                                                                                                                  <pad> Amanda loves the peaked cap which fits her and wants to buy a top hat, but #Person2# tells her it seems wrong.</s>   \n",
       "7                                                                                                                                                   <pad> #Person1# wants to have a credit card cashed 10 hundreds and ten twenties in small change and #Person2# suffices the journey.</s>   \n",
       "8                                                                                                                                                   <pad> #Person1#'s flight got in 15 minutes ago but #Person2# doesn't come, so #Person1# asks for a flight new. They are frustrated.</s>   \n",
       "9                                                               <pad> #Person2# regrets the restaurant. It is a new restaurant but it's a new restaurant and there's no figure together. #Person1# remarks on the food. #Person2# thinks #Person2# has had too much of this restaurant.</s>   \n",
       "10                                                                         <pad> #Person1# asks #Person2# to make a medical record for #Person1# when registering for the doctor's doctor's office. Then, they want to make it to the consulting room before traveling to the pharmacy.</s>   \n",
       "11                                                                                                                                                  <pad> #Person1# is helping #Person2# buy a toy car for #Person2#'s son. #Person2# asks #Person1# for a price and someone offers it.</s>   \n",
       "12                                                                                                                    <pad> #Person1# buys 150 yuan a piece of blackpaper for 150 yuan with a volume discount. People like it because they receive 10% discount if they buy over 1 000.</s>   \n",
       "13                                                                                                                            <pad> #Person2# expresses some points to #Person1#. #Person1# offers #Person2# the final draft and settles on their contract to make things satisfactory.</s>   \n",
       "14                                                           <pad> #Person1# asks #Person2# for help in looking for a job. #Person2# provides some advice and promises to make an appointment with a job counselor. #Person1# decides to go directly into the job center and moves out.</s>   \n",
       "15                                              <pad> Allen needed a window opener to open in the house, so he opens the window before leaving to find it was open, as well as his stereo and TV. He also observes Aubrey, an apparition (a dog), with Allen, and Aubrey is distressed.</s>   \n",
       "16      <pad> #Person1# finally realizes that #Person2# is driving in the opposite direction. #Person1# shows #Person2# the way to Cross Bakery and casts hope for #Person1#'s future. #Person1# then agrees to show #Person1# the way every time Sherry takes her to the Cross Bakery.</s>   \n",
       "17                                                                                                                                                                              <pad> Judy is surprised by everyone talking about it and says they're not surprised. Judy is surprised.</s>   \n",
       "18                                                                                                 <pad> Alice is not taking care of her mother and Li Hong betrays Alice to stay a while. Li Hong tries to tell Alice that she should stay at home so they can visit Mrs. Brown later.</s>   \n",
       "19                                                                              <pad> #Person2# smells like an ashtray in both her and #Person1#. #Person2# says she is not sure how to quit smoking, she doesn't have the willpower to quit and wants a divorce and domestic violence.</s>   \n",
       "\n",
       "    reward_before  reward_after  reward_diff  \n",
       "0        2.505527      3.022619     0.517092  \n",
       "1        1.910335      2.411916     0.501582  \n",
       "2        2.404763      2.696096     0.291333  \n",
       "3        2.406128      2.641305     0.235176  \n",
       "4        1.749866      1.934913     0.185047  \n",
       "5        1.843381      2.026775     0.183394  \n",
       "6        1.279083      1.442296     0.163214  \n",
       "7        1.432373      1.566800     0.134427  \n",
       "8        2.073201      2.151229     0.078028  \n",
       "9        2.091290      2.159722     0.068432  \n",
       "10       1.469803      1.508477     0.038674  \n",
       "11       1.389345      1.336585    -0.052760  \n",
       "12       2.415754      2.336586    -0.079168  \n",
       "13       3.094464      2.815492    -0.278972  \n",
       "14       2.330269      2.029250    -0.301020  \n",
       "15       2.387576      2.064249    -0.323327  \n",
       "16       2.468123      2.128692    -0.339431  \n",
       "17       1.540443      0.989670    -0.550774  \n",
       "18       2.067036      1.413900    -0.653136  \n",
       "19       1.701607      0.963145    -0.738462  "
      ],
      "text/html": [
       "<div>\n",
       "<style scoped>\n",
       "    .dataframe tbody tr th:only-of-type {\n",
       "        vertical-align: middle;\n",
       "    }\n",
       "\n",
       "    .dataframe tbody tr th {\n",
       "        vertical-align: top;\n",
       "    }\n",
       "\n",
       "    .dataframe thead th {\n",
       "        text-align: right;\n",
       "    }\n",
       "</style>\n",
       "<table border=\"1\" class=\"dataframe\">\n",
       "  <thead>\n",
       "    <tr style=\"text-align: right;\">\n",
       "      <th></th>\n",
       "      <th>query</th>\n",
       "      <th>response_before</th>\n",
       "      <th>response_after</th>\n",
       "      <th>reward_before</th>\n",
       "      <th>reward_after</th>\n",
       "      <th>reward_diff</th>\n",
       "    </tr>\n",
       "  </thead>\n",
       "  <tbody>\n",
       "    <tr>\n",
       "      <th>0</th>\n",
       "      <td>Summarize the following conversation. #Person1#: I'm forming a music band. #Person2#: Do you already know how to play an instrument? #Person1#: Uh. . . Yeah! I'Ve told you a thousand times that I'm learning to play the drums. Now that I know how to play well, I would like to form a rock band. #Person2#: Aside from yourself, who are the other members of the band? #Person1#: We have a guy who plays guitar, and another who plays bass. Although we still haven't found anyone to be our singer. You...</td>\n",
       "      <td>&lt;pad&gt; #Person1# wants to form a music band. #Person1# says she is learning the drums. A singer is joining them and they can audition this weekend.&lt;/s&gt;</td>\n",
       "      <td>&lt;pad&gt; #Person1# tells #Person2# about the members of the call for a rock band to form, and #Person2# is a singer. #Person1# invites #Person2# to audition this weekend at #Person1#'s house. #Person2# doesn't have enough room for the amplifiers, microphones, or even the drums.&lt;/s&gt;</td>\n",
       "      <td>2.505527</td>\n",
       "      <td>3.022619</td>\n",
       "      <td>0.517092</td>\n",
       "    </tr>\n",
       "    <tr>\n",
       "      <th>1</th>\n",
       "      <td>Summarize the following conversation. #Person1#: I would like to order some internet today. #Person2#: What kind would you like? #Person1#: What kind of internet is there? #Person2#: You can get DEL or dial-up. #Person1#: Which of those two is best? #Person2#: I would recommend DEL. #Person1#: So that one better? #Person2#: It's better because it doesn't tie up the phone. #Person1#: What do you mean by that? #Person2#: DEL isn't connected through your phone line, but dial-up is. #Person1#: S...</td>\n",
       "      <td>&lt;pad&gt; Mr.1# wants to order some internet on DEL instead of dial-up, since it isn't connected through the phone line, so it can't use his phone.&lt;/s&gt;</td>\n",
       "      <td>&lt;pad&gt; #Person1# requests to order some dial-up routers based on #Person2#'s recommendation. The suggestions include DEL which is better because it doesn't tie up the phone as it belongs to #Person1#.&lt;/s&gt;</td>\n",
       "      <td>1.910335</td>\n",
       "      <td>2.411916</td>\n",
       "      <td>0.501582</td>\n",
       "    </tr>\n",
       "    <tr>\n",
       "      <th>2</th>\n",
       "      <td>Summarize the following conversation. #Person1#: Mom, I just finished my paper. Can you proofread it before I hand it in? #Person2#: Sure, let's take a look. Sweetie, this is terrific. Your ideas are so original. #Person1#: Thanks. #Person2#: I can tell you worked hard on it. #Person1#: I really did! I started thinking about what I wanted to say three weeks ago. #Person2#: Well, it was definitely worth all the time. #Person1#: Let's just hope my teacher agrees. Summary: &lt;/s&gt;</td>\n",
       "      <td>&lt;pad&gt; Mom gives #Person1# a proposal Melson gave her before handing it in. Mom thinks #Person1#'s paper sounds original and is thankful.&lt;/s&gt;</td>\n",
       "      <td>&lt;pad&gt; #Person1#'s mom and her mom review the paper before handing it in by #Person1# and talk about it. #Person1#'s parents thank they for work on the piece and hope #Person1#'s teacher accepts the idea.&lt;/s&gt;</td>\n",
       "      <td>2.404763</td>\n",
       "      <td>2.696096</td>\n",
       "      <td>0.291333</td>\n",
       "    </tr>\n",
       "    <tr>\n",
       "      <th>3</th>\n",
       "      <td>Summarize the following conversation. #Person1#: Today more and more families have personal computers. People have wider range of choice to communicate with the outside world. #Person2#: Right. With the establishment of Internet and a lot of web companies, people are getting more and more dependent on the web. #Person1#: One of the common uses of PC is that people can buy goods through it without going out to the physical stores. #Person2#: Can you tell me how it is done? #Person1#: If a cus...</td>\n",
       "      <td>&lt;pad&gt; #Person1# tells #Person2# how the PC is used to buy things online without going to the physical stores. The service is perfect and the delivery is free of charge.&lt;/s&gt;</td>\n",
       "      <td>&lt;pad&gt; #Person1# and #Person2# talk about the day to day use of personal computers. John shows #Person2# how companies create the technologies for posting and contacting information through their websites.&lt;/s&gt;</td>\n",
       "      <td>2.406128</td>\n",
       "      <td>2.641305</td>\n",
       "      <td>0.235176</td>\n",
       "    </tr>\n",
       "    <tr>\n",
       "      <th>4</th>\n",
       "      <td>Summarize the following conversation. #Person1#: Let's take a coffee break, shall we? #Person2#: I wish I could, but I can't. #Person1#: What keeps you so busy? You've been sitting there for hours. You've got to walk around. You just can't stay on the computer forever. #Person2#: Well, I am up to my neck in work. I've got to finish this report. Sarah needs it by noon. I don't want to be scolded if I can't finish my work by the deadline. #Person1#: I understand that, but you'd feel better if ...</td>\n",
       "      <td>&lt;pad&gt; #Person1# is raising concerns about #Person2#'s fight with an employee and asks #Person2# to take a coffee break. They decided to give a break only because they are sitting there for hours.&lt;/s&gt;</td>\n",
       "      <td>&lt;pad&gt; #Person1#, Sarah, and #Person2# are going to make a coffee break after their work problem arises.&lt;/s&gt;</td>\n",
       "      <td>1.749866</td>\n",
       "      <td>1.934913</td>\n",
       "      <td>0.185047</td>\n",
       "    </tr>\n",
       "    <tr>\n",
       "      <th>5</th>\n",
       "      <td>Summarize the following conversation. #Person1#: Hello. I want to reconfirm our flight to London. #Person2#: Yes, sir. Did you call the airline? #Person1#: Yes, I did. But I couldn't communicate with them in English. They speak only Spanish. So I need your help. #Person2#: Certainly, sir. What is the flight number and when are you leaving? #Person1#: We are taking IB 385 to London tomorrow at 1 p. m. #Person2#: Oh, I see, sir. We have the airline office inside the hotel. They have an English...</td>\n",
       "      <td>&lt;pad&gt; #Person1# calls the airline but they speak only Spanish. #Person2# helps #Person1# to reconfirm the flight to London and accepts the call.&lt;/s&gt;</td>\n",
       "      <td>&lt;pad&gt; #Person1# wants to confirm a flight to London. #Person2# helps faccessed the flight number and when departing. #Person1# is about to go to London at 1 p.m.&lt;/s&gt;</td>\n",
       "      <td>1.843381</td>\n",
       "      <td>2.026775</td>\n",
       "      <td>0.183394</td>\n",
       "    </tr>\n",
       "    <tr>\n",
       "      <th>6</th>\n",
       "      <td>Summarize the following conversation. #Person1#: Amanda, how do you like this peaked cap? #Person2#: Didn't you say you want to buy a top hat? #Person1#: But I think this one fits me Well. Why don't you try on the sombrero in black? #Person2#: I don't like caps at all. Summary: &lt;/s&gt;</td>\n",
       "      <td>&lt;pad&gt; Amanda likes the peaked cap she bought at her shopping place but she doesn't like caps.&lt;/s&gt;</td>\n",
       "      <td>&lt;pad&gt; Amanda loves the peaked cap which fits her and wants to buy a top hat, but #Person2# tells her it seems wrong.&lt;/s&gt;</td>\n",
       "      <td>1.279083</td>\n",
       "      <td>1.442296</td>\n",
       "      <td>0.163214</td>\n",
       "    </tr>\n",
       "    <tr>\n",
       "      <th>7</th>\n",
       "      <td>Summarize the following conversation. #Person1#: I'd like to have this cashed, please. #Person2#: Please put you name and address here. May I see your passport? #Person1#: Yes. #Person2#: How would you like it? #Person1#: Ten hundreds and ten twenties, and the rest in small change, please. #Person2#: OK. Here you are. Summary: &lt;/s&gt;</td>\n",
       "      <td>&lt;pad&gt; #Person1# wants to make a cashed up with #Person2# and looks at every year.&lt;/s&gt;</td>\n",
       "      <td>&lt;pad&gt; #Person1# wants to have a credit card cashed 10 hundreds and ten twenties in small change and #Person2# suffices the journey.&lt;/s&gt;</td>\n",
       "      <td>1.432373</td>\n",
       "      <td>1.566800</td>\n",
       "      <td>0.134427</td>\n",
       "    </tr>\n",
       "    <tr>\n",
       "      <th>8</th>\n",
       "      <td>Summarize the following conversation. #Person1#: Could you help me, Sir? My flight got in 15 minutes ago. Everyone else has picked up the luggage but mine hasn't come through. #Person2#: I'm sorry, Madam, I'll go and find out if there is any more to come. Summary: &lt;/s&gt;</td>\n",
       "      <td>&lt;pad&gt; #Person1#'s flight got in 11 minutes but #Person1#'s not ready to be done because #Person2# gives none of the baggage.&lt;/s&gt;</td>\n",
       "      <td>&lt;pad&gt; #Person1#'s flight got in 15 minutes ago but #Person2# doesn't come, so #Person1# asks for a flight new. They are frustrated.&lt;/s&gt;</td>\n",
       "      <td>2.073201</td>\n",
       "      <td>2.151229</td>\n",
       "      <td>0.078028</td>\n",
       "    </tr>\n",
       "    <tr>\n",
       "      <th>9</th>\n",
       "      <td>Summarize the following conversation. #Person1#: So how did you like the restaurant? #Person2#: Actually, it could have been better. #Person1#: What didn't you like about it? #Person2#: It is a new restaurant. I don't think they have their act together yet. #Person1#: What did you think about the food? #Person2#: I felt that the food was pretty mediocre. #Person1#: The service wasn't that great, either. #Person2#: I agree. The service was not good. #Person1#: Do you think that you want to tr...</td>\n",
       "      <td>&lt;pad&gt; #Person2# tells #Person1# #Person2#'s criticized the restaurant at first, the food. #Person2# says the service is not good and #Person2#'s is tired.&lt;/s&gt;</td>\n",
       "      <td>&lt;pad&gt; #Person2# regrets the restaurant. It is a new restaurant but it's a new restaurant and there's no figure together. #Person1# remarks on the food. #Person2# thinks #Person2# has had too much of this restaurant.&lt;/s&gt;</td>\n",
       "      <td>2.091290</td>\n",
       "      <td>2.159722</td>\n",
       "      <td>0.068432</td>\n",
       "    </tr>\n",
       "    <tr>\n",
       "      <th>10</th>\n",
       "      <td>Summarize the following conversation. #Person1#: Where shall I register, please? #Person2#: Here. Do you have a registration card? #Person1#: Yes. Here you are. #Person2#: Please register your information here and pay for it. And I'll make a medical record for you. #Person1#: OK. How much do I need to pay for the registration? #Person2#: Please pay ten yuan for the registration. #Person1#: Here is my money. #Person2#: This is your registration card. Please don't lose it and bring it whenever...</td>\n",
       "      <td>&lt;pad&gt; #Person1# registers with #Person2# and asks to register her information here as she proceeds to get a medical record. #Person2# will make her a medical record and informs #Person1# the way to the pharmastore.&lt;/s&gt;</td>\n",
       "      <td>&lt;pad&gt; #Person1# asks #Person2# to make a medical record for #Person1# when registering for the doctor's doctor's office. Then, they want to make it to the consulting room before traveling to the pharmacy.&lt;/s&gt;</td>\n",
       "      <td>1.469803</td>\n",
       "      <td>1.508477</td>\n",
       "      <td>0.038674</td>\n",
       "    </tr>\n",
       "    <tr>\n",
       "      <th>11</th>\n",
       "      <td>Summarize the following conversation. #Person1#: What can I do for you, madam? #Person2#: I'd like to buy a toy car for my son. #Person1#: How about this one? #Person2#: It looks nice. How much is it? #Person1#: They're three hundred dollars. #Person2#: Oh, I'm afraid it's too expensive. Can you show me something cheaper? #Person1#: OK, This one is one hundred and twenty. It's the cheapest here. #Person2#: OK, I'll take it. Here's the money. #Person1#: Thank you very much. Summary: &lt;/s&gt;</td>\n",
       "      <td>&lt;pad&gt; #Person0# wants to buy a toy car for #Person2# for #Person2# birthday. #Person1# offers #Person2# an andnang 25 at a rate cheaper than three hundred dollars.&lt;/s&gt;</td>\n",
       "      <td>&lt;pad&gt; #Person1# is helping #Person2# buy a toy car for #Person2#'s son. #Person2# asks #Person1# for a price and someone offers it.&lt;/s&gt;</td>\n",
       "      <td>1.389345</td>\n",
       "      <td>1.336585</td>\n",
       "      <td>-0.052760</td>\n",
       "    </tr>\n",
       "    <tr>\n",
       "      <th>12</th>\n",
       "      <td>Summarize the following conversation. #Person1#: How much are you asking for this? #Person2#: I'm offering them to you at 150 yuan a piece. Is that all right? #Person1#: Is tax already included in their price? #Person2#: Yes. Our price can't be matched. #Person1#: Would you consider a volume discount? #Person2#: If you buy 1, 000 or more, you'll get a 10 % discount. #Person1#: I'll accept your offer. Summary: &lt;/s&gt;</td>\n",
       "      <td>&lt;pad&gt; #Person1# offers #Person2# 150 yuan a piece of earrings to #Person2# for 3000 yuan. As long as #Person2# has a volume discount, #Person2# accepts and will accept.&lt;/s&gt;</td>\n",
       "      <td>&lt;pad&gt; #Person1# buys 150 yuan a piece of blackpaper for 150 yuan with a volume discount. People like it because they receive 10% discount if they buy over 1 000.&lt;/s&gt;</td>\n",
       "      <td>2.415754</td>\n",
       "      <td>2.336586</td>\n",
       "      <td>-0.079168</td>\n",
       "    </tr>\n",
       "    <tr>\n",
       "      <th>13</th>\n",
       "      <td>Summarize the following conversation. #Person1#: Here is the final draft of our contract. I'm glad that we have reached an agreement on almost every term in our trade. #Person2#: Yes, it seems to me we have come quite a long way. However, let me take a close look at the final draft. #Person1#: Do you have some points to bring up? #Person2#: Well, everything we've discussed seems to be here. #Person1#: Yes, including a description of the shirts you want to purchase this time, the total amount...</td>\n",
       "      <td>&lt;pad&gt; #Person1# is happy with the final draft of their contract and #Person2# brings the final draft to #Person1# for the first time. #Person1# wants to sign in a few minutes so the contract is signed.&lt;/s&gt;</td>\n",
       "      <td>&lt;pad&gt; #Person2# expresses some points to #Person1#. #Person1# offers #Person2# the final draft and settles on their contract to make things satisfactory.&lt;/s&gt;</td>\n",
       "      <td>3.094464</td>\n",
       "      <td>2.815492</td>\n",
       "      <td>-0.278972</td>\n",
       "    </tr>\n",
       "    <tr>\n",
       "      <th>14</th>\n",
       "      <td>Summarize the following conversation. #Person1#: Could you help me figure out how to look for a job? #Person2#: We have lots of options, what type of job do you need? #Person1#: I want to work in an office. #Person2#: Do you want to work part-time or full-time? #Person1#: I want to work full-time. #Person2#: We have binders with local job listings or you can make use of the computers. OK? #Person1#: I am confused a bit but I am sure that I can figure it out. #Person2#: If you make an appoint...</td>\n",
       "      <td>&lt;pad&gt; #Person2# helps #Person1# find a job in an office and guide #Person1# to using binders with local job listings. #Person1# also uses computers for keeping the job. #Person2# recommends #Person1# to see a counselor.&lt;/s&gt;</td>\n",
       "      <td>&lt;pad&gt; #Person1# asks #Person2# for help in looking for a job. #Person2# provides some advice and promises to make an appointment with a job counselor. #Person1# decides to go directly into the job center and moves out.&lt;/s&gt;</td>\n",
       "      <td>2.330269</td>\n",
       "      <td>2.029250</td>\n",
       "      <td>-0.301020</td>\n",
       "    </tr>\n",
       "    <tr>\n",
       "      <th>15</th>\n",
       "      <td>Summarize the following conversation. #Person1#: Oh, my God! What's this? #Person2#: What? #Person1#: Look! This window is open. #Person2#: Did you open it before we left? #Person1#: Are you kidding? It's winter. Why would I open it? #Person2#: I don't know. Wait. Is this yours? #Person1#: No! Oh, my God! Someone has broken into the house. #Person2#: It looks that way. That's probably why the door wasn't locked when we came in. #Person1#: I locked it when I left though. #Person2#: Yes, but t...</td>\n",
       "      <td>&lt;pad&gt; Allen goes above to look for someone, but can't find anyone climbing upstairs because the man broke into the house's window.&lt;/s&gt;</td>\n",
       "      <td>&lt;pad&gt; Allen needed a window opener to open in the house, so he opens the window before leaving to find it was open, as well as his stereo and TV. He also observes Aubrey, an apparition (a dog), with Allen, and Aubrey is distressed.&lt;/s&gt;</td>\n",
       "      <td>2.387576</td>\n",
       "      <td>2.064249</td>\n",
       "      <td>-0.323327</td>\n",
       "    </tr>\n",
       "    <tr>\n",
       "      <th>16</th>\n",
       "      <td>Summarize the following conversation. #Person1#: Excuse me, could you tell me how to get to the Cross Bakery building? #Person2#: The Cross Bakery building? Oh sure. You're actually walking in the opposite direction. #Person1#: Oh, you're kidding! I thought I was heading east. #Person2#: No, east is the other direction. To get to the Bakery, you need to turn around and go three blocks to Broadway. When you get to the intersection of Broadway and Elm, you hang a left. Go straight down that st...</td>\n",
       "      <td>&lt;pad&gt; #Person1# lets #Person2# show #Person1# the way to Cross Bakery's bakery building. #Person2# tells #Person1# about what you need to do to get to the bakery. #Person1# tries to make a left, which leads until the Bakery building is at #Person1#'s left side. #Person1# doesn't think he can pass the Bakery.&lt;/s&gt;</td>\n",
       "      <td>&lt;pad&gt; #Person1# finally realizes that #Person2# is driving in the opposite direction. #Person1# shows #Person2# the way to Cross Bakery and casts hope for #Person1#'s future. #Person1# then agrees to show #Person1# the way every time Sherry takes her to the Cross Bakery.&lt;/s&gt;</td>\n",
       "      <td>2.468123</td>\n",
       "      <td>2.128692</td>\n",
       "      <td>-0.339431</td>\n",
       "    </tr>\n",
       "    <tr>\n",
       "      <th>17</th>\n",
       "      <td>Summarize the following conversation. #Person1#: Judy, what is everybody talking about? #Person2#: Haven't you heard? Richard was fired by our manager. #Person1#: You're kidding. It can't be true. #Person2#: Believe it or not. Everybody is talking about it in the company. #Person1#: Really? I'm surprised. #Person2#: Me too. Summary: &lt;/s&gt;</td>\n",
       "      <td>&lt;pad&gt; Judy loves Richard made a music playing in the company because Richard was at his manager's place. Judy is surprised.&lt;/s&gt;</td>\n",
       "      <td>&lt;pad&gt; Judy is surprised by everyone talking about it and says they're not surprised. Judy is surprised.&lt;/s&gt;</td>\n",
       "      <td>1.540443</td>\n",
       "      <td>0.989670</td>\n",
       "      <td>-0.550774</td>\n",
       "    </tr>\n",
       "    <tr>\n",
       "      <th>18</th>\n",
       "      <td>Summarize the following conversation. #Person1#: Hello? #Person2#: Hello? #Person1#: Can I speak to Li Hong, please? #Person2#: Speaking. #Person1#: Hi, Li Hong. This is Alice. #Person2#: Hi, Alice. How are you? #Person1#: Not bad. Li Hong, I am sorry that I can't go to see Mrs. Brown with you tomorrow morning. My mother is ill. I must take care of her. #Person2#: I'm sorry to hear that. You'd better stay at home. After all, we can visit Mrs. Brown later #Person1#: OK. Bye - bye. #Person2#: ...</td>\n",
       "      <td>&lt;pad&gt; Alice is sick and she would like to see Mrs. Brown and Li Hong can visit her later.&lt;/s&gt;</td>\n",
       "      <td>&lt;pad&gt; Alice is not taking care of her mother and Li Hong betrays Alice to stay a while. Li Hong tries to tell Alice that she should stay at home so they can visit Mrs. Brown later.&lt;/s&gt;</td>\n",
       "      <td>2.067036</td>\n",
       "      <td>1.413900</td>\n",
       "      <td>-0.653136</td>\n",
       "    </tr>\n",
       "    <tr>\n",
       "      <th>19</th>\n",
       "      <td>Summarize the following conversation. #Person1#: It smells like an ashtray in here! #Person2#: Hi honey! What's wrong? Why do you have that look on your face? #Person1#: What's wrong? I thought we agreed that you were gonna quit smoking. #Person2#: No! I said I was going to cut down which is very different. You can't just expect me to go cold turkey overnight! #Person1#: Look, there are other ways to quit. You can try the nicotine patch, or nicotine chewing gum. We spend a fortune on cigaret...</td>\n",
       "      <td>&lt;pad&gt; #Person1# thinks Hussain might have changed his plan and it irks him becauseHussain broke the up across Everyone's House. They disagree and want a divorce.&lt;/s&gt;</td>\n",
       "      <td>&lt;pad&gt; #Person2# smells like an ashtray in both her and #Person1#. #Person2# says she is not sure how to quit smoking, she doesn't have the willpower to quit and wants a divorce and domestic violence.&lt;/s&gt;</td>\n",
       "      <td>1.701607</td>\n",
       "      <td>0.963145</td>\n",
       "      <td>-0.738462</td>\n",
       "    </tr>\n",
       "  </tbody>\n",
       "</table>\n",
       "</div>"
      ]
     },
     "execution_count": 22,
     "metadata": {},
     "output_type": "execute_result"
    }
   ],
   "execution_count": 22
  }
 ],
 "metadata": {
  "kernelspec": {
   "display_name": "Python 3",
   "language": "python",
   "name": "python3"
  },
  "language_info": {
   "codemirror_mode": {
    "name": "ipython",
    "version": 2
   },
   "file_extension": ".py",
   "mimetype": "text/x-python",
   "name": "python",
   "nbconvert_exporter": "python",
   "pygments_lexer": "ipython2",
   "version": "2.7.6"
  }
 },
 "nbformat": 4,
 "nbformat_minor": 5
}
